# Play Football - DECISION TREE

#### Information about dataset
`Features:`
* Outlook
* Temperature
* Humidity
* Wind

`Label:`
* Played Football
### Setup the notebook
import warnings
warnings.filterwarnings('ignore')
import pandas as pd
import numpy as np
from sklearn.model_selection import train_test_split
from sklearn.tree import DecisionTreeClassifier
from sklearn.metrics import accuracy_score
from sklearn import tree
print("Setup Complete")

### Load and examine the data

In this step we will load the data
* Load the data into DataFrame called `data_file`.
data_file = pd.read_excel('D:\DA Projects\Play Football\Play_Football.xlsx')
# Printing the dataset
data_file
### Converting qulaitative values into quantitative value by creating dummy variables
One_hot_encoded_data = pd.get_dummies(data_file, columns = ['Outlook', 'Temperature', 'Humidity', 'Wind'])
One_hot_encoded_data
X = One_hot_encoded_data.values[:, 1:11]
Y = One_hot_encoded_data.values[:, 0]
X
Y
### Split the data into training and testing sets
X_train, X_test, Y_train, Y_test = train_test_split(X, Y, test_size=0.3, random_state=100)
X_train
### Train the model using the decision tree classifier
clf_entropy = DecisionTreeClassifier(criterion="entropy", random_state=100, max_depth=3, min_samples_leaf=5)
clf_entropy.fit(X_train, Y_train)
Y_Pred = clf_entropy.predict(X_test)
Y_Pred
### Model Evaluation
print(f"Accuracy: {accuracy_score(Y_test, Y_Pred)*100} %")
